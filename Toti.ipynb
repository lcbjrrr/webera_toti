{
  "nbformat": 4,
  "nbformat_minor": 0,
  "metadata": {
    "colab": {
      "name": "Toti.ipynb",
      "provenance": [],
      "collapsed_sections": [],
      "include_colab_link": true
    },
    "kernelspec": {
      "name": "python3",
      "display_name": "Python 3"
    }
  },
  "cells": [
    {
      "cell_type": "markdown",
      "metadata": {
        "id": "view-in-github",
        "colab_type": "text"
      },
      "source": [
        "<a href=\"https://colab.research.google.com/github/lcbjrrr/webera_toti/blob/main/Toti.ipynb\" target=\"_parent\"><img src=\"https://colab.research.google.com/assets/colab-badge.svg\" alt=\"Open In Colab\"/></a>"
      ]
    },
    {
      "cell_type": "markdown",
      "metadata": {
        "id": "_htlBemkJRkA"
      },
      "source": [
        "# **Respostas Lista #1**\n",
        "*Nelismy Baro*"
      ]
    },
    {
      "cell_type": "code",
      "metadata": {
        "id": "3pqLvOJHhghd"
      },
      "source": [
        "\n",
        "from math import sqrt\n",
        "import pandas as pd"
      ],
      "execution_count": null,
      "outputs": []
    },
    {
      "cell_type": "markdown",
      "metadata": {
        "id": "znIf1uVMJqwl"
      },
      "source": [
        "# ***1) Desenvolva um programa que recebe um valor em reais e converte para moeda estrangeira dado o valor do câmbio. ***\n",
        "\n",
        "\n",
        "\n",
        "\n",
        "\n"
      ]
    },
    {
      "cell_type": "code",
      "metadata": {
        "id": "8JSI1EGjKQ-m",
        "outputId": "75a11f66-ce7e-464f-b398-ce75d0e2ec44",
        "colab": {
          "base_uri": "https://localhost:8080/"
        }
      },
      "source": [
        "def cambio(real,cambio):\n",
        "    dollar=real/cambio\n",
        "    return dollar\n",
        "\n",
        "r = cambio(200,5.76)\n",
        "print(r) "
      ],
      "execution_count": null,
      "outputs": [
        {
          "output_type": "stream",
          "text": [
            "34.72222222222222\n"
          ],
          "name": "stdout"
        }
      ]
    },
    {
      "cell_type": "markdown",
      "metadata": {
        "id": "jKwIaAWPKacd"
      },
      "source": [
        "# *** 2) Desenvolva um programa que recebe uma temperatura em Celsius (oC) e devolve em Fahrenheit (oF).***"
      ]
    },
    {
      "cell_type": "code",
      "metadata": {
        "id": "TYA270dnLMSI",
        "outputId": "d3543bb4-0546-40fb-fa7d-68292f79d440",
        "colab": {
          "base_uri": "https://localhost:8080/"
        }
      },
      "source": [
        "def celcios(temp):\n",
        "  t= (temp*9/5)+32\n",
        "  return t\n",
        "\n",
        "p= celcios(34)  \n",
        "print(p)"
      ],
      "execution_count": null,
      "outputs": [
        {
          "output_type": "stream",
          "text": [
            "93.2\n"
          ],
          "name": "stdout"
        }
      ]
    },
    {
      "cell_type": "markdown",
      "metadata": {
        "id": "_m8Xwi1GL0jT"
      },
      "source": [
        "# ***3) Desenvolva um programa que recebe uma temperatura em Fahrenheit (oF) e devolve em Celsius (oC).***"
      ]
    },
    {
      "cell_type": "code",
      "metadata": {
        "id": "O9uIX5f9MeAY",
        "outputId": "eecdc413-51ec-43b2-ecc0-ddda57515927",
        "colab": {
          "base_uri": "https://localhost:8080/"
        }
      },
      "source": [
        "def fa_t_ce(temp):\n",
        "    c=(temp-32)/1.8\n",
        "    return c\n",
        "p=fa_t_ce(59)\n",
        "print(p)"
      ],
      "execution_count": null,
      "outputs": [
        {
          "output_type": "stream",
          "text": [
            "15.0\n"
          ],
          "name": "stdout"
        }
      ]
    },
    {
      "cell_type": "markdown",
      "metadata": {
        "id": "qRgTCM30MlXy"
      },
      "source": [
        "# **4) Desenvolva um programa que recebe o valor de um produto e devolve as formas de pagamentos:**\n",
        "- valor a vista com 5% de desconto, ou\n",
        "- 3 parcelas iguais, ou\n",
        "- 10x com acréscimo de 20%. "
      ]
    },
    {
      "cell_type": "code",
      "metadata": {
        "id": "6QfQoDSMNLsx",
        "outputId": "0f845183-81a3-434c-e150-f4b036e648d0",
        "colab": {
          "base_uri": "https://localhost:8080/"
        }
      },
      "source": [
        "def valor_produto(numero):\n",
        "  desconto=numero*5/100\n",
        "  vista=numero-desconto\n",
        "  print(\"O valor a vista com 5 porcento de desconto é:\",vista)\n",
        "  parcelas=numero/3\n",
        "  print(\"As 3 parcelas de %numero serão de:\",parcelas)\n",
        "  acrescimo=(numero/10)+(numero*20/100) \n",
        "  print(\"O valor das parcelas 10x con acréscimo de 20% é:\",acrescimo)\n",
        "\n",
        "valor=valor_produto(100)\n",
        "print(valor)   \n",
        "\n"
      ],
      "execution_count": null,
      "outputs": [
        {
          "output_type": "stream",
          "text": [
            "O valor a vista com 5 porcento de desconto é: 95.0\n",
            "As 3 parcelas de %numero serão de: 33.333333333333336\n",
            "O valor das parcelas 10x con acréscimo de 20% é: 30.0\n",
            "None\n"
          ],
          "name": "stdout"
        }
      ]
    },
    {
      "cell_type": "markdown",
      "metadata": {
        "id": "3Fe8Tz75ScLO"
      },
      "source": [
        "# ***5) Desenvolva a fórmula para calcular o IMC= peso/altura^2 ou IMC = peso/(altura.altura) ***"
      ]
    },
    {
      "cell_type": "code",
      "metadata": {
        "id": "OFg21uZaSlhd",
        "outputId": "95a30d00-080f-4d22-eae5-823c0fd9d777",
        "colab": {
          "base_uri": "https://localhost:8080/"
        }
      },
      "source": [
        "def imc(peso,altura):\n",
        "   x=peso/(altura*altura)\n",
        "   if(x<=10):\n",
        "       print(\"Você tem que ter uma dieta especial, esta muito  magro\")\n",
        "   elif x>19 and x<=25:\n",
        "        print(\"Você tem um peso normal, tem que manter a dieta\")\n",
        "   elif x>25 and x<=30:\n",
        "        print(\"Você tem sobrepeso, tem que ter uma dieta especial\")\n",
        "   elif x>30 and x<40:\n",
        "        print(\"Você esta obeso, tem que ir à academia e nutricionista\") \n",
        "   else:\n",
        "        print(\"Você tem obesidade grave, procure um medico agora!!!!\")                      \n",
        "   return x\n",
        "   \n",
        "\n",
        "p =imc(85,165)\n",
        "print(\"O IMC é de:\", p)"
      ],
      "execution_count": null,
      "outputs": [
        {
          "output_type": "stream",
          "text": [
            "Você tem que ter uma dieta especial, esta muito  magro\n",
            "O IMC é de: 0.0031221303948576677\n"
          ],
          "name": "stdout"
        }
      ]
    },
    {
      "cell_type": "markdown",
      "metadata": {
        "id": "PTQ9-PphS1Ay"
      },
      "source": [
        "# ***6) Desenvolva um programa que recebe 3 notas e calcula a nota final, dado que a primeira nota***  ***tem peso 2, a segunda peso 3 e terceira peso 4.***"
      ]
    },
    {
      "cell_type": "code",
      "metadata": {
        "id": "kQ-oWUY1Ux5B",
        "outputId": "90dcfbf8-28f8-48d6-b92a-a4bf120af47b",
        "colab": {
          "base_uri": "https://localhost:8080/"
        }
      },
      "source": [
        "def nota_final(nota1,nota2,nota3):\n",
        "  nota1 = int(input(\"Digite o valor da nota1: \"))\n",
        "  nota2 = int(input(\"Digite o valor da nota2: \"))\n",
        "  nota3 = int(input(\"Digite o valor da nota3: \"))\n",
        "  peso1=nota1*2\n",
        "  peso2=nota2*3\n",
        "  peso3=nota3*4\n",
        "  peso_notas=(peso1+peso2+peso3)/3\n",
        "  print('A nota final é:',peso_notas)\n",
        "\n",
        "\n",
        "\n",
        "nota_final(1,2,3) \n"
      ],
      "execution_count": null,
      "outputs": [
        {
          "output_type": "stream",
          "text": [
            "Digite o valor da nota1: 1\n",
            "Digite o valor da nota2: 23\n",
            "Digite o valor da nota3: 24\n",
            "A nota final é: 55.666666666666664\n"
          ],
          "name": "stdout"
        }
      ]
    },
    {
      "cell_type": "markdown",
      "metadata": {
        "id": "UtDpJYnfW6MR"
      },
      "source": [
        "# ***7) Desenvolva um programa que recebe uma medida em metros e devolve em polegadas.***"
      ]
    },
    {
      "cell_type": "code",
      "metadata": {
        "id": "4uo_6cx4XBbC",
        "outputId": "e1540424-d7f6-4805-f6f9-6777fd3a4a8b",
        "colab": {
          "base_uri": "https://localhost:8080/"
        }
      },
      "source": [
        "def conversor(metros):\n",
        "  metros= int(input(\"Digite o valor dos metros: \"))\n",
        "  polegadas= metros* 39.370\n",
        "  print(metros, \"metros, são\", polegadas, \"polegadas.\")\n",
        "\n",
        "conversor(30)\n"
      ],
      "execution_count": null,
      "outputs": [
        {
          "output_type": "stream",
          "text": [
            "Digite o valor dos metros: 23\n",
            "23 metros, são 905.51 polegadas.\n"
          ],
          "name": "stdout"
        }
      ]
    },
    {
      "cell_type": "markdown",
      "metadata": {
        "id": "LyXzXbH7Yxkv"
      },
      "source": [
        "# ***8) Escreva uma função que calcule a nota final, sabendo que AP1 e AP2 tem peso 40% e AP3 tem peso 20%***"
      ]
    },
    {
      "cell_type": "code",
      "metadata": {
        "id": "oYMcMEIkY5n9",
        "outputId": "6b541c1f-92cc-4914-978b-6db74bbd9fe0",
        "colab": {
          "base_uri": "https://localhost:8080/"
        }
      },
      "source": [
        "def nota_final_porcento(nota1,nota2,nota3):\n",
        "  nota1 = int(input(\"Digite o valor da nota1: \"))\n",
        "  nota2 = int(input(\"Digite o valor da nota2: \"))\n",
        "  nota3 = int(input(\"Digite o valor da nota3: \"))\n",
        "  peso1=nota1*40/100\n",
        "  peso2=nota2*40/100\n",
        "  peso3=nota3*20/100\n",
        "  peso_notas=(peso1+peso2+peso3)/3\n",
        "  print('A nota final é:',peso_notas)\n",
        "\n",
        "nota_final_porcento(1,2,3)"
      ],
      "execution_count": null,
      "outputs": [
        {
          "output_type": "stream",
          "text": [
            "Digite o valor da nota1: 34\n",
            "Digite o valor da nota2: 32\n",
            "Digite o valor da nota3: 12\n",
            "A nota final é: 9.6\n"
          ],
          "name": "stdout"
        }
      ]
    },
    {
      "cell_type": "markdown",
      "metadata": {
        "id": "Nfs4wPx6cDQs"
      },
      "source": [
        "# ***9) Faça um programa que calcule a área de um Círculo (considere Pi = 3.14)***"
      ]
    },
    {
      "cell_type": "code",
      "metadata": {
        "id": "p7sFrtWlcMFr"
      },
      "source": [
        "def area_circulo(radio):\n",
        " radio = float ( input ('insira raio do circulo'))\n",
        " pi = 3.14\n",
        " area = ((pi) * (radio*radio))\n",
        " print (\"A área do circulo é =\", area )\n",
        "\n",
        "area_circulo(34.5)"
      ],
      "execution_count": null,
      "outputs": []
    },
    {
      "cell_type": "markdown",
      "metadata": {
        "id": "4vdP8TOiduho"
      },
      "source": [
        "# ***10) Faça um programa que calcule a área de um Quadrado***"
      ]
    },
    {
      "cell_type": "code",
      "metadata": {
        "id": "DFR4ib07ds66"
      },
      "source": [
        "def area_cuadrado(lado):\n",
        "  lado=float(input(\"ingrese el lado del cuadrado\\n\"))\n",
        "  area=lado*lado\n",
        "  print(\"A área do quadrado é: \", area)\n",
        "\n",
        "area_cuadrado(1)\n"
      ],
      "execution_count": null,
      "outputs": []
    },
    {
      "cell_type": "markdown",
      "metadata": {
        "id": "lm3i_9xvekcZ"
      },
      "source": [
        "# ***11) Faça um programa que calcule a área de um Retângulo***"
      ]
    },
    {
      "cell_type": "code",
      "metadata": {
        "id": "VhX8XUu4ept3"
      },
      "source": [
        "def area_retangulo(ancho,alto):\n",
        "  ancho=float(input(\"Ingrese o ancho de rectangulo\\n\"))\n",
        "  alto=float(input(\"Ingrese o alto de rectangulo\\n\"))\n",
        "  area=ancho*alto\n",
        "  print(\"A área do retângulo é:\",area)\n",
        "\n",
        "area_retangulo(1,2)  "
      ],
      "execution_count": null,
      "outputs": []
    },
    {
      "cell_type": "markdown",
      "metadata": {
        "id": "wTJerBV6fPfY"
      },
      "source": [
        "# ***12) Faça um programa que calcule a área de um Triângulo***"
      ]
    },
    {
      "cell_type": "code",
      "metadata": {
        "id": "4RdChD8WfYCe"
      },
      "source": [
        "def area_triangulo(base,altura):\n",
        "  base=input(\"Ingrese a base do triangulo: \")\n",
        "  altura=input(\"Ingrese a altura do triangulo: \")\n",
        "  area=(base*altura)/2\n",
        "  print (\"Area do triangulo é:\",area)\n",
        "\n",
        "area_retangulo(1,2)  "
      ],
      "execution_count": null,
      "outputs": []
    },
    {
      "cell_type": "markdown",
      "metadata": {
        "id": "q9xz05m_ic1V"
      },
      "source": [
        "# ***13) Faça um programa que calcule o y, para uma equação do 2o grau: ax^2 + bx + c***"
      ]
    },
    {
      "cell_type": "code",
      "metadata": {
        "id": "k27IjG-uicJm"
      },
      "source": [
        "def equacao_2_grau(a,b,c,):\n",
        "  a = float(input(\"Ingrese o valor de a: \")) \n",
        "  b = float(input(\"Ingrese o valor de b: \")) \n",
        "  c = float(input(\"Ingrese o valor de c: \")) \n",
        "  x = (b**2)-(4*a*c)\n",
        "  if x < 0:\n",
        "    print(\"Solução números complejos\")\n",
        "  else:\n",
        "    x1 = (-b + math.sqrt(x)) / (2*a)\n",
        "    x2 = (-b - math.sqrt(x)) / (2*a)  \n",
        "    print(\"X1: \", x1)\n",
        "    print(\"X2: \", x2)\n",
        "\n",
        "equacao_2_grau(1,2,3)    \n"
      ],
      "execution_count": null,
      "outputs": []
    },
    {
      "cell_type": "markdown",
      "metadata": {
        "id": "U7EWf2PglVj7"
      },
      "source": [
        "# ***14) Faça um programa que calcule as raízes de uma equação do segundo grau, na forma ax^2+ bx + c. O programa deverá pedir os valores de a, b e c.***"
      ]
    },
    {
      "cell_type": "code",
      "metadata": {
        "id": "tYsQ_FSRmKFg"
      },
      "source": [
        "def equaçao_2_grau_raiz(a,b,c):\n",
        "    print('Equaçao do 2o grau da forma: ax² + bx + c')\n",
        "    \n",
        "    a = int( input('Ingrese a: ') )\n",
        "\n",
        "    if(a==0):\n",
        "        print('Se a=0, não é uma equação do 2o grau')\n",
        "    else:\n",
        "        b = int( input('Ingrese b: ') )\n",
        "        c = int( input('Ingrese c: ') )\n",
        "        x = b*b - (4*a*c)\n",
        "\n",
        "        if x<0:\n",
        "            print('x menor que 0 são raízes imaginárias')\n",
        "        elif x==0:\n",
        "            raiz = -b / (2*a)\n",
        "            print('x=0 , raiz = ',raiz)\n",
        "        else:\n",
        "            raiz1 = (-b + math.sqrt(x) ) / (2*a)\n",
        "            raiz2 = (-b - math.sqrt(x) ) / (2*a)\n",
        "            print('raizes: ',raiz1,' e ',raiz2)\n",
        "             \n",
        "equaçao_2_grau_raiz(1,2,3)            "
      ],
      "execution_count": null,
      "outputs": []
    },
    {
      "cell_type": "markdown",
      "metadata": {
        "id": "cJeSwAzKnlXG"
      },
      "source": [
        "# ***15) Faça um programa que conforme teorema de Pitágoras, calcule a hipotenusa dado os lados de um triângulo***"
      ]
    },
    {
      "cell_type": "code",
      "metadata": {
        "id": "Uacjr2HToJv-"
      },
      "source": [
        "math.hypot(12,5) "
      ],
      "execution_count": null,
      "outputs": []
    },
    {
      "cell_type": "markdown",
      "metadata": {
        "id": "TUUmNf7zoZWU"
      },
      "source": [
        "# ***16) Faça um programa que dado 2 pares de coordenadas (x,y), calcule a distância deles no plano cartesiano***"
      ]
    },
    {
      "cell_type": "code",
      "metadata": {
        "id": "ycqrE-mSDTZN",
        "outputId": "8c2ef724-5ff7-42cb-b21f-2c8fbf81cde7",
        "colab": {
          "base_uri": "https://localhost:8080/"
        }
      },
      "source": [
        "def calculo_distancia(xA,xB,yA,yB):\n",
        "\n",
        "  xA = float(input('Insira a abscissa do ponto A:'))\n",
        "  xB = float(input('Insira a abscissa do ponto B:'))\n",
        "  yA = float(input('Insira a ordenada do ponto A:'))\n",
        "  yB = float(input('Insira a abscissa do ponto B:'))\n",
        "  distAB = sqrt((xA-xB)**2) + ((yA-yB)**2)\n",
        "  print (\"Adistancia dos pontos é:\", distAB)\n",
        "\n",
        "calculo_distancia(1,2,3,4)  "
      ],
      "execution_count": null,
      "outputs": [
        {
          "output_type": "stream",
          "text": [
            "Inserte a abscissa do ponto A:2\n",
            "Inserte a abscissa do ponto B:3\n",
            "Inserte a ordenada do ponto A:4\n",
            "Inserte a abscissa do ponto B:5\n",
            "Adistancia dos pontos é: 2.0\n"
          ],
          "name": "stdout"
        }
      ]
    },
    {
      "cell_type": "markdown",
      "metadata": {
        "id": "JSO2u6b3E7dC"
      },
      "source": [
        "# ***17) Faça um programa que peça o tamanho de um arquivo para download (em MB, Mega bYtes)e a velocidade de um link de Internet (em Mbps, Mega bIts por seg.), calcule e informe o tempo aproximado de download do arquivo usando este link (em minutos).***"
      ]
    },
    {
      "cell_type": "code",
      "metadata": {
        "id": "qzbILJP0FRG-",
        "outputId": "0f2c2578-ba4b-4d3e-9dcc-a72203b4d857",
        "colab": {
          "base_uri": "https://localhost:8080/"
        }
      },
      "source": [
        "def dowload_arquivo(arquivo,link):\n",
        "  arquivo = float(input(\"Insira o tamanho do arquivo em MegaByte: \"))\n",
        "  link = float(input(\"Insira a velocidade do link em Mbps: \"))\n",
        "  time = ((arquivo * 8) / link) / 60\n",
        "  print (\"O tempo aproximado de download é de:\",time,\"minutos\")\n",
        "\n",
        "dowload_arquivo(1,2)  "
      ],
      "execution_count": null,
      "outputs": [
        {
          "output_type": "stream",
          "text": [
            "Insira o tamanho do arquivo em MegaByte: 700\n",
            "Insira a velocidade do link em Mbps: 100\n",
            "O tempo aproximado de download é de: 0.9333333333333333 minutos\n"
          ],
          "name": "stdout"
        }
      ]
    },
    {
      "cell_type": "markdown",
      "metadata": {
        "id": "Tre5c6cGG2hL"
      },
      "source": [
        "# ***18) Crie um programa que calcule o custo total de uma viagem, considerando a distância, a autonomia do seu carro (km/l), preço do combustível (por litro), e que a cada 100km existe um pedágio e cada um deles tem um preço fixo de R$10***"
      ]
    },
    {
      "cell_type": "code",
      "metadata": {
        "id": "Z6VfWJ4XG1bs",
        "outputId": "085ba586-1216-4765-bbb2-518bc80d6c04",
        "colab": {
          "base_uri": "https://localhost:8080/"
        }
      },
      "source": [
        "\n",
        "def custo_total_viagem(distancia,autonomia,preco_combus):\n",
        "   distancia = float(input(\"Insira a distancia em km: \"))\n",
        "   autonomia = float(input(\"Insira a autonomia do seu carro km/l: \"))\n",
        "   combustible = float(input(\"Insira o preço do combustible na atualidad por litro: \"))\n",
        "\n",
        "   if (distancia < 1 or autonomia < 1 or combustible < 1):\n",
        "     print (\"Insira valores válidos!\")\n",
        "   else :\n",
        "    \n",
        "    custo = (distancia/autonomia)*combustible\n",
        "    peaje= (distancia/100)*10\n",
        "    total=custo+peaje\n",
        "\n",
        "    print(\"O custo total da viagem é de:\", total,\"reais\")\n",
        "\n",
        "custo_total_viagem(1,2,3)    "
      ],
      "execution_count": null,
      "outputs": [
        {
          "output_type": "stream",
          "text": [
            "Insira a distancia em km: 500\n",
            "Insira a autonomia do seu carro km/l: 30\n",
            "Insira o preço do combustible na atualidad por litro: 5\n",
            "O custo total da viagem é de: 133.33333333333334 reais\n"
          ],
          "name": "stdout"
        }
      ]
    },
    {
      "cell_type": "markdown",
      "metadata": {
        "id": "TuD5c_ZvSkwZ"
      },
      "source": [
        "# ***D1) Desenvolva um programa que calcule o Lucro, com base em um custo fixo CF de fabricação, um custo variado CV por unidade produzida, a receita R por unidade vendida, e quantidade produzida Q.***\n"
      ]
    },
    {
      "cell_type": "code",
      "metadata": {
        "id": "IGJytMZQTiNn",
        "outputId": "c07f60e1-c4e7-4c18-8bbb-3f0a88f1b2f4",
        "colab": {
          "base_uri": "https://localhost:8080/"
        }
      },
      "source": [
        "def lucro(CF,CV,R,Q):\n",
        "   custo_fixo = float(input(\"Insira o custo fixo de fabricação: \"))\n",
        "   custo_variado = float(input(\"Insira o custo variado por unidade produzida: \"))\n",
        "   receita = float(input(\"Insira a receita por unidade vendida: \"))\n",
        "   quantidade_produzida = float(input(\"Insira a quantidade produzida: \"))\n",
        "\n",
        "   if (custo_fixo<1 or custo_variado<1 or receita<1 or quantidade_produzida<1):\n",
        "     print(\"Insira valores válidos!\")\n",
        "   else:  \n",
        "    custo_total= custo_variado+custo_fixo\n",
        "    resultado_bruto=receita-custo_total\n",
        "    print(\"Lucro é de:\", resultado_bruto)\n",
        "\n",
        "lucro(1,2,3,4)    \n"
      ],
      "execution_count": null,
      "outputs": [
        {
          "output_type": "stream",
          "text": [
            "Insira o custo fixo de fabricação: 30000\n",
            "Insira o custo variado por unidade produzida: 2345\n",
            "Insira a receita por unidade vendida: 234\n",
            "Insira a quantidade produzida: 24567\n",
            "Lucro é de: -32111.0\n"
          ],
          "name": "stdout"
        }
      ]
    },
    {
      "cell_type": "code",
      "metadata": {
        "id": "MMQhl0SKTixZ"
      },
      "source": [
        ""
      ],
      "execution_count": null,
      "outputs": []
    },
    {
      "cell_type": "markdown",
      "metadata": {
        "id": "fBjVqQgCLykF"
      },
      "source": [
        "clase de hoy 9/11"
      ]
    },
    {
      "cell_type": "code",
      "metadata": {
        "id": "sZ4TgJiXL4zO",
        "outputId": "786bb5ea-f30c-46fb-a118-8852ee14de2d",
        "colab": {
          "base_uri": "https://localhost:8080/",
          "height": 421
        }
      },
      "source": [
        "df_notas=pd.read_csv(\"http://quant-ibmec.group/notas_turma%20-%20final.csv\")\n",
        "df_notas"
      ],
      "execution_count": null,
      "outputs": [
        {
          "output_type": "execute_result",
          "data": {
            "text/html": [
              "<div>\n",
              "<style scoped>\n",
              "    .dataframe tbody tr th:only-of-type {\n",
              "        vertical-align: middle;\n",
              "    }\n",
              "\n",
              "    .dataframe tbody tr th {\n",
              "        vertical-align: top;\n",
              "    }\n",
              "\n",
              "    .dataframe thead th {\n",
              "        text-align: right;\n",
              "    }\n",
              "</style>\n",
              "<table border=\"1\" class=\"dataframe\">\n",
              "  <thead>\n",
              "    <tr style=\"text-align: right;\">\n",
              "      <th></th>\n",
              "      <th>Curso</th>\n",
              "      <th>Alunos</th>\n",
              "      <th>AP1</th>\n",
              "      <th>AP2</th>\n",
              "      <th>AP3</th>\n",
              "      <th>Nota</th>\n",
              "      <th>Conceito</th>\n",
              "    </tr>\n",
              "  </thead>\n",
              "  <tbody>\n",
              "    <tr>\n",
              "      <th>0</th>\n",
              "      <td>ADM</td>\n",
              "      <td>João</td>\n",
              "      <td>9.0</td>\n",
              "      <td>8.0</td>\n",
              "      <td>9.0</td>\n",
              "      <td>8.6</td>\n",
              "      <td>B</td>\n",
              "    </tr>\n",
              "    <tr>\n",
              "      <th>1</th>\n",
              "      <td>ADM</td>\n",
              "      <td>Maria</td>\n",
              "      <td>6.0</td>\n",
              "      <td>4.0</td>\n",
              "      <td>10.0</td>\n",
              "      <td>6.0</td>\n",
              "      <td>D</td>\n",
              "    </tr>\n",
              "    <tr>\n",
              "      <th>2</th>\n",
              "      <td>DIR</td>\n",
              "      <td>José</td>\n",
              "      <td>4.0</td>\n",
              "      <td>3.0</td>\n",
              "      <td>4.0</td>\n",
              "      <td>3.6</td>\n",
              "      <td>F</td>\n",
              "    </tr>\n",
              "    <tr>\n",
              "      <th>3</th>\n",
              "      <td>ADM</td>\n",
              "      <td>Pedro</td>\n",
              "      <td>8.0</td>\n",
              "      <td>10.0</td>\n",
              "      <td>7.0</td>\n",
              "      <td>8.6</td>\n",
              "      <td>B</td>\n",
              "    </tr>\n",
              "    <tr>\n",
              "      <th>4</th>\n",
              "      <td>ECO</td>\n",
              "      <td>Paulo</td>\n",
              "      <td>7.5</td>\n",
              "      <td>8.0</td>\n",
              "      <td>9.5</td>\n",
              "      <td>8.1</td>\n",
              "      <td>B</td>\n",
              "    </tr>\n",
              "    <tr>\n",
              "      <th>5</th>\n",
              "      <td>DIR</td>\n",
              "      <td>Esther</td>\n",
              "      <td>6.0</td>\n",
              "      <td>4.5</td>\n",
              "      <td>6.0</td>\n",
              "      <td>5.4</td>\n",
              "      <td>D</td>\n",
              "    </tr>\n",
              "    <tr>\n",
              "      <th>6</th>\n",
              "      <td>ADM</td>\n",
              "      <td>Gabriel</td>\n",
              "      <td>8.0</td>\n",
              "      <td>6.0</td>\n",
              "      <td>8.0</td>\n",
              "      <td>7.2</td>\n",
              "      <td>B</td>\n",
              "    </tr>\n",
              "    <tr>\n",
              "      <th>7</th>\n",
              "      <td>DIR</td>\n",
              "      <td>Rafael</td>\n",
              "      <td>7.5</td>\n",
              "      <td>10.0</td>\n",
              "      <td>9.5</td>\n",
              "      <td>8.9</td>\n",
              "      <td>B</td>\n",
              "    </tr>\n",
              "    <tr>\n",
              "      <th>8</th>\n",
              "      <td>ECO</td>\n",
              "      <td>Davi</td>\n",
              "      <td>6.0</td>\n",
              "      <td>10.0</td>\n",
              "      <td>7.0</td>\n",
              "      <td>7.8</td>\n",
              "      <td>B</td>\n",
              "    </tr>\n",
              "    <tr>\n",
              "      <th>9</th>\n",
              "      <td>DIR</td>\n",
              "      <td>Silvio</td>\n",
              "      <td>10.0</td>\n",
              "      <td>9.5</td>\n",
              "      <td>9.5</td>\n",
              "      <td>9.7</td>\n",
              "      <td>A</td>\n",
              "    </tr>\n",
              "    <tr>\n",
              "      <th>10</th>\n",
              "      <td>ADM</td>\n",
              "      <td>Sofia</td>\n",
              "      <td>8.0</td>\n",
              "      <td>7.0</td>\n",
              "      <td>6.0</td>\n",
              "      <td>7.2</td>\n",
              "      <td>B</td>\n",
              "    </tr>\n",
              "    <tr>\n",
              "      <th>11</th>\n",
              "      <td>ADM</td>\n",
              "      <td>Raquel</td>\n",
              "      <td>4.5</td>\n",
              "      <td>4.0</td>\n",
              "      <td>4.0</td>\n",
              "      <td>4.2</td>\n",
              "      <td>F</td>\n",
              "    </tr>\n",
              "  </tbody>\n",
              "</table>\n",
              "</div>"
            ],
            "text/plain": [
              "   Curso   Alunos   AP1   AP2   AP3  Nota Conceito\n",
              "0    ADM     João   9.0   8.0   9.0   8.6        B\n",
              "1    ADM    Maria   6.0   4.0  10.0   6.0        D\n",
              "2    DIR     José   4.0   3.0   4.0   3.6        F\n",
              "3    ADM    Pedro   8.0  10.0   7.0   8.6        B\n",
              "4    ECO    Paulo   7.5   8.0   9.5   8.1        B\n",
              "5    DIR   Esther   6.0   4.5   6.0   5.4        D\n",
              "6    ADM  Gabriel   8.0   6.0   8.0   7.2        B\n",
              "7    DIR   Rafael   7.5  10.0   9.5   8.9        B\n",
              "8    ECO     Davi   6.0  10.0   7.0   7.8        B\n",
              "9    DIR   Silvio  10.0   9.5   9.5   9.7        A\n",
              "10   ADM    Sofia   8.0   7.0   6.0   7.2        B\n",
              "11   ADM   Raquel   4.5   4.0   4.0   4.2        F"
            ]
          },
          "metadata": {
            "tags": []
          },
          "execution_count": 76
        }
      ]
    },
    {
      "cell_type": "code",
      "metadata": {
        "id": "E7Jzx3dzN_Ke",
        "outputId": "5d71b5d5-bc64-4c68-e85d-d3d907f9ff99",
        "colab": {
          "base_uri": "https://localhost:8080/"
        }
      },
      "source": [
        "from google.colab import drive\n",
        "drive.mount(\"/content/drive\")"
      ],
      "execution_count": null,
      "outputs": [
        {
          "output_type": "stream",
          "text": [
            "Mounted at /content/drive\n"
          ],
          "name": "stdout"
        }
      ]
    },
    {
      "cell_type": "code",
      "metadata": {
        "id": "SEle2S8aOYWt",
        "outputId": "f3d63107-7c9c-4cbd-c472-4a78ff4cd187",
        "colab": {
          "base_uri": "https://localhost:8080/"
        }
      },
      "source": [
        "media_curso=df_notas.groupby('Curso').mean()['Nota']\n",
        "media_curso\n"
      ],
      "execution_count": null,
      "outputs": [
        {
          "output_type": "execute_result",
          "data": {
            "text/plain": [
              "Curso\n",
              "ADM    6.966667\n",
              "DIR    6.900000\n",
              "ECO    7.950000\n",
              "Name: Nota, dtype: float64"
            ]
          },
          "metadata": {
            "tags": []
          },
          "execution_count": 81
        }
      ]
    },
    {
      "cell_type": "code",
      "metadata": {
        "id": "kl02dg35QUgg",
        "outputId": "23e65308-44e4-460d-d002-0cdfbd28e17c",
        "colab": {
          "base_uri": "https://localhost:8080/",
          "height": 310
        }
      },
      "source": [
        "media_curso.plot.bar()"
      ],
      "execution_count": null,
      "outputs": [
        {
          "output_type": "execute_result",
          "data": {
            "text/plain": [
              "<matplotlib.axes._subplots.AxesSubplot at 0x7f6f10ca89b0>"
            ]
          },
          "metadata": {
            "tags": []
          },
          "execution_count": 82
        },
        {
          "output_type": "display_data",
          "data": {
            "image/png": "[encoded data removed]",
            "text/plain": [
              "<Figure size 432x288 with 1 Axes>"
            ]
          },
          "metadata": {
            "tags": [],
            "needs_background": "light"
          }
        }
      ]
    },
    {
      "cell_type": "code",
      "metadata": {
        "id": "EkXKQK6LQq6v",
        "outputId": "1de9a158-5479-4ab8-bae8-612712b9c467",
        "colab": {
          "base_uri": "https://localhost:8080/",
          "height": 282
        }
      },
      "source": [
        "import matplotlib.pyplot as plt\n",
        "plt.bar(media_curso.index,media_curso.values)"
      ],
      "execution_count": null,
      "outputs": [
        {
          "output_type": "execute_result",
          "data": {
            "text/plain": [
              "<BarContainer object of 3 artists>"
            ]
          },
          "metadata": {
            "tags": []
          },
          "execution_count": 83
        },
        {
          "output_type": "display_data",
          "data": {
            "image/png": "[encoded data removed]",
            "text/plain": [
              "<Figure size 432x288 with 1 Axes>"
            ]
          },
          "metadata": {
            "tags": [],
            "needs_background": "light"
          }
        }
      ]
    },
    {
      "cell_type": "code",
      "metadata": {
        "id": "nMYcOhtKRRf9",
        "outputId": "10429586-4031-4e9f-e86a-4ff0d00bea6d",
        "colab": {
          "base_uri": "https://localhost:8080/",
          "height": 350
        }
      },
      "source": [
        "import seaborn as sns\n",
        "sns.barplot(media_curso.index,media_curso.values)"
      ],
      "execution_count": null,
      "outputs": [
        {
          "output_type": "stream",
          "text": [
            "/usr/local/lib/python3.6/dist-packages/seaborn/_decorators.py:43: FutureWarning: Pass the following variables as keyword args: x, y. From version 0.12, the only valid positional argument will be `data`, and passing other arguments without an explicit keyword will result in an error or misinterpretation.\n",
            "  FutureWarning\n"
          ],
          "name": "stderr"
        },
        {
          "output_type": "execute_result",
          "data": {
            "text/plain": [
              "<matplotlib.axes._subplots.AxesSubplot at 0x7f6f0678d588>"
            ]
          },
          "metadata": {
            "tags": []
          },
          "execution_count": 84
        },
        {
          "output_type": "display_data",
          "data": {
            "image/png": "[encoded data removed]",
            "text/plain": [
              "<Figure size 432x288 with 1 Axes>"
            ]
          },
          "metadata": {
            "tags": [],
            "needs_background": "light"
          }
        }
      ]
    },
    {
      "cell_type": "code",
      "metadata": {
        "id": "UcRxmjp3Rqlu",
        "outputId": "e5ccfa46-a67d-4fe1-81da-f9cac0640d84",
        "colab": {
          "base_uri": "https://localhost:8080/",
          "height": 204
        }
      },
      "source": [
        "df_notas.head()"
      ],
      "execution_count": null,
      "outputs": [
        {
          "output_type": "execute_result",
          "data": {
            "text/html": [
              "<div>\n",
              "<style scoped>\n",
              "    .dataframe tbody tr th:only-of-type {\n",
              "        vertical-align: middle;\n",
              "    }\n",
              "\n",
              "    .dataframe tbody tr th {\n",
              "        vertical-align: top;\n",
              "    }\n",
              "\n",
              "    .dataframe thead th {\n",
              "        text-align: right;\n",
              "    }\n",
              "</style>\n",
              "<table border=\"1\" class=\"dataframe\">\n",
              "  <thead>\n",
              "    <tr style=\"text-align: right;\">\n",
              "      <th></th>\n",
              "      <th>Curso</th>\n",
              "      <th>Alunos</th>\n",
              "      <th>AP1</th>\n",
              "      <th>AP2</th>\n",
              "      <th>AP3</th>\n",
              "      <th>Nota</th>\n",
              "      <th>Conceito</th>\n",
              "    </tr>\n",
              "  </thead>\n",
              "  <tbody>\n",
              "    <tr>\n",
              "      <th>0</th>\n",
              "      <td>ADM</td>\n",
              "      <td>João</td>\n",
              "      <td>9.0</td>\n",
              "      <td>8.0</td>\n",
              "      <td>9.0</td>\n",
              "      <td>8.6</td>\n",
              "      <td>B</td>\n",
              "    </tr>\n",
              "    <tr>\n",
              "      <th>1</th>\n",
              "      <td>ADM</td>\n",
              "      <td>Maria</td>\n",
              "      <td>6.0</td>\n",
              "      <td>4.0</td>\n",
              "      <td>10.0</td>\n",
              "      <td>6.0</td>\n",
              "      <td>D</td>\n",
              "    </tr>\n",
              "    <tr>\n",
              "      <th>2</th>\n",
              "      <td>DIR</td>\n",
              "      <td>José</td>\n",
              "      <td>4.0</td>\n",
              "      <td>3.0</td>\n",
              "      <td>4.0</td>\n",
              "      <td>3.6</td>\n",
              "      <td>F</td>\n",
              "    </tr>\n",
              "    <tr>\n",
              "      <th>3</th>\n",
              "      <td>ADM</td>\n",
              "      <td>Pedro</td>\n",
              "      <td>8.0</td>\n",
              "      <td>10.0</td>\n",
              "      <td>7.0</td>\n",
              "      <td>8.6</td>\n",
              "      <td>B</td>\n",
              "    </tr>\n",
              "    <tr>\n",
              "      <th>4</th>\n",
              "      <td>ECO</td>\n",
              "      <td>Paulo</td>\n",
              "      <td>7.5</td>\n",
              "      <td>8.0</td>\n",
              "      <td>9.5</td>\n",
              "      <td>8.1</td>\n",
              "      <td>B</td>\n",
              "    </tr>\n",
              "  </tbody>\n",
              "</table>\n",
              "</div>"
            ],
            "text/plain": [
              "  Curso Alunos  AP1   AP2   AP3  Nota Conceito\n",
              "0   ADM   João  9.0   8.0   9.0   8.6        B\n",
              "1   ADM  Maria  6.0   4.0  10.0   6.0        D\n",
              "2   DIR   José  4.0   3.0   4.0   3.6        F\n",
              "3   ADM  Pedro  8.0  10.0   7.0   8.6        B\n",
              "4   ECO  Paulo  7.5   8.0   9.5   8.1        B"
            ]
          },
          "metadata": {
            "tags": []
          },
          "execution_count": 88
        }
      ]
    },
    {
      "cell_type": "code",
      "metadata": {
        "id": "go3-A23CR3t9",
        "outputId": "52fd344f-42df-4663-d852-a1186e623386",
        "colab": {
          "base_uri": "https://localhost:8080/",
          "height": 204
        }
      },
      "source": [
        "df_notas.tail() #as ultimas 5 del dataframe"
      ],
      "execution_count": null,
      "outputs": [
        {
          "output_type": "execute_result",
          "data": {
            "text/html": [
              "<div>\n",
              "<style scoped>\n",
              "    .dataframe tbody tr th:only-of-type {\n",
              "        vertical-align: middle;\n",
              "    }\n",
              "\n",
              "    .dataframe tbody tr th {\n",
              "        vertical-align: top;\n",
              "    }\n",
              "\n",
              "    .dataframe thead th {\n",
              "        text-align: right;\n",
              "    }\n",
              "</style>\n",
              "<table border=\"1\" class=\"dataframe\">\n",
              "  <thead>\n",
              "    <tr style=\"text-align: right;\">\n",
              "      <th></th>\n",
              "      <th>Curso</th>\n",
              "      <th>Alunos</th>\n",
              "      <th>AP1</th>\n",
              "      <th>AP2</th>\n",
              "      <th>AP3</th>\n",
              "      <th>Nota</th>\n",
              "      <th>Conceito</th>\n",
              "    </tr>\n",
              "  </thead>\n",
              "  <tbody>\n",
              "    <tr>\n",
              "      <th>7</th>\n",
              "      <td>DIR</td>\n",
              "      <td>Rafael</td>\n",
              "      <td>7.5</td>\n",
              "      <td>10.0</td>\n",
              "      <td>9.5</td>\n",
              "      <td>8.9</td>\n",
              "      <td>B</td>\n",
              "    </tr>\n",
              "    <tr>\n",
              "      <th>8</th>\n",
              "      <td>ECO</td>\n",
              "      <td>Davi</td>\n",
              "      <td>6.0</td>\n",
              "      <td>10.0</td>\n",
              "      <td>7.0</td>\n",
              "      <td>7.8</td>\n",
              "      <td>B</td>\n",
              "    </tr>\n",
              "    <tr>\n",
              "      <th>9</th>\n",
              "      <td>DIR</td>\n",
              "      <td>Silvio</td>\n",
              "      <td>10.0</td>\n",
              "      <td>9.5</td>\n",
              "      <td>9.5</td>\n",
              "      <td>9.7</td>\n",
              "      <td>A</td>\n",
              "    </tr>\n",
              "    <tr>\n",
              "      <th>10</th>\n",
              "      <td>ADM</td>\n",
              "      <td>Sofia</td>\n",
              "      <td>8.0</td>\n",
              "      <td>7.0</td>\n",
              "      <td>6.0</td>\n",
              "      <td>7.2</td>\n",
              "      <td>B</td>\n",
              "    </tr>\n",
              "    <tr>\n",
              "      <th>11</th>\n",
              "      <td>ADM</td>\n",
              "      <td>Raquel</td>\n",
              "      <td>4.5</td>\n",
              "      <td>4.0</td>\n",
              "      <td>4.0</td>\n",
              "      <td>4.2</td>\n",
              "      <td>F</td>\n",
              "    </tr>\n",
              "  </tbody>\n",
              "</table>\n",
              "</div>"
            ],
            "text/plain": [
              "   Curso  Alunos   AP1   AP2  AP3  Nota Conceito\n",
              "7    DIR  Rafael   7.5  10.0  9.5   8.9        B\n",
              "8    ECO    Davi   6.0  10.0  7.0   7.8        B\n",
              "9    DIR  Silvio  10.0   9.5  9.5   9.7        A\n",
              "10   ADM   Sofia   8.0   7.0  6.0   7.2        B\n",
              "11   ADM  Raquel   4.5   4.0  4.0   4.2        F"
            ]
          },
          "metadata": {
            "tags": []
          },
          "execution_count": 89
        }
      ]
    },
    {
      "cell_type": "code",
      "metadata": {
        "id": "zGlM3eaOSMkd",
        "outputId": "3353d6b6-413d-4729-a56c-2a43fbce7176",
        "colab": {
          "base_uri": "https://localhost:8080/",
          "height": 111
        }
      },
      "source": [
        "df_notas[df_notas['Curso']=='ECO']"
      ],
      "execution_count": null,
      "outputs": [
        {
          "output_type": "execute_result",
          "data": {
            "text/html": [
              "<div>\n",
              "<style scoped>\n",
              "    .dataframe tbody tr th:only-of-type {\n",
              "        vertical-align: middle;\n",
              "    }\n",
              "\n",
              "    .dataframe tbody tr th {\n",
              "        vertical-align: top;\n",
              "    }\n",
              "\n",
              "    .dataframe thead th {\n",
              "        text-align: right;\n",
              "    }\n",
              "</style>\n",
              "<table border=\"1\" class=\"dataframe\">\n",
              "  <thead>\n",
              "    <tr style=\"text-align: right;\">\n",
              "      <th></th>\n",
              "      <th>Curso</th>\n",
              "      <th>Alunos</th>\n",
              "      <th>AP1</th>\n",
              "      <th>AP2</th>\n",
              "      <th>AP3</th>\n",
              "      <th>Nota</th>\n",
              "      <th>Conceito</th>\n",
              "    </tr>\n",
              "  </thead>\n",
              "  <tbody>\n",
              "    <tr>\n",
              "      <th>4</th>\n",
              "      <td>ECO</td>\n",
              "      <td>Paulo</td>\n",
              "      <td>7.5</td>\n",
              "      <td>8.0</td>\n",
              "      <td>9.5</td>\n",
              "      <td>8.1</td>\n",
              "      <td>B</td>\n",
              "    </tr>\n",
              "    <tr>\n",
              "      <th>8</th>\n",
              "      <td>ECO</td>\n",
              "      <td>Davi</td>\n",
              "      <td>6.0</td>\n",
              "      <td>10.0</td>\n",
              "      <td>7.0</td>\n",
              "      <td>7.8</td>\n",
              "      <td>B</td>\n",
              "    </tr>\n",
              "  </tbody>\n",
              "</table>\n",
              "</div>"
            ],
            "text/plain": [
              "  Curso Alunos  AP1   AP2  AP3  Nota Conceito\n",
              "4   ECO  Paulo  7.5   8.0  9.5   8.1        B\n",
              "8   ECO   Davi  6.0  10.0  7.0   7.8        B"
            ]
          },
          "metadata": {
            "tags": []
          },
          "execution_count": 91
        }
      ]
    },
    {
      "cell_type": "code",
      "metadata": {
        "id": "nlxLv6JHSeSb",
        "outputId": "ec4d2272-ccc3-4ae1-97d8-746ffdeac9ae",
        "colab": {
          "base_uri": "https://localhost:8080/",
          "height": 80
        }
      },
      "source": [
        "df_notas.iloc[4:5,5:6] #iloc recorrido de matrices"
      ],
      "execution_count": null,
      "outputs": [
        {
          "output_type": "execute_result",
          "data": {
            "text/html": [
              "<div>\n",
              "<style scoped>\n",
              "    .dataframe tbody tr th:only-of-type {\n",
              "        vertical-align: middle;\n",
              "    }\n",
              "\n",
              "    .dataframe tbody tr th {\n",
              "        vertical-align: top;\n",
              "    }\n",
              "\n",
              "    .dataframe thead th {\n",
              "        text-align: right;\n",
              "    }\n",
              "</style>\n",
              "<table border=\"1\" class=\"dataframe\">\n",
              "  <thead>\n",
              "    <tr style=\"text-align: right;\">\n",
              "      <th></th>\n",
              "      <th>Nota</th>\n",
              "    </tr>\n",
              "  </thead>\n",
              "  <tbody>\n",
              "    <tr>\n",
              "      <th>4</th>\n",
              "      <td>8.1</td>\n",
              "    </tr>\n",
              "  </tbody>\n",
              "</table>\n",
              "</div>"
            ],
            "text/plain": [
              "   Nota\n",
              "4   8.1"
            ]
          },
          "metadata": {
            "tags": []
          },
          "execution_count": 92
        }
      ]
    },
    {
      "cell_type": "code",
      "metadata": {
        "id": "BuPQkp9hTwT_",
        "outputId": "a19c6fef-3dd5-4221-cf52-20a179225528",
        "colab": {
          "base_uri": "https://localhost:8080/",
          "height": 700
        }
      },
      "source": [
        "pedidos=pd.read_csv(\"pedidos - qtd.csv\")\n",
        "pedidos"
      ],
      "execution_count": null,
      "outputs": [
        {
          "output_type": "execute_result",
          "data": {
            "text/html": [
              "<div>\n",
              "<style scoped>\n",
              "    .dataframe tbody tr th:only-of-type {\n",
              "        vertical-align: middle;\n",
              "    }\n",
              "\n",
              "    .dataframe tbody tr th {\n",
              "        vertical-align: top;\n",
              "    }\n",
              "\n",
              "    .dataframe thead th {\n",
              "        text-align: right;\n",
              "    }\n",
              "</style>\n",
              "<table border=\"1\" class=\"dataframe\">\n",
              "  <thead>\n",
              "    <tr style=\"text-align: right;\">\n",
              "      <th></th>\n",
              "      <th>Produto</th>\n",
              "      <th>Depto</th>\n",
              "      <th>Quantidade</th>\n",
              "    </tr>\n",
              "  </thead>\n",
              "  <tbody>\n",
              "    <tr>\n",
              "      <th>0</th>\n",
              "      <td>Papel A4</td>\n",
              "      <td>ADM</td>\n",
              "      <td>3</td>\n",
              "    </tr>\n",
              "    <tr>\n",
              "      <th>1</th>\n",
              "      <td>Grampo</td>\n",
              "      <td>ADM</td>\n",
              "      <td>2</td>\n",
              "    </tr>\n",
              "    <tr>\n",
              "      <th>2</th>\n",
              "      <td>Lápis</td>\n",
              "      <td>VENDAS</td>\n",
              "      <td>3</td>\n",
              "    </tr>\n",
              "    <tr>\n",
              "      <th>3</th>\n",
              "      <td>Caneta Azul</td>\n",
              "      <td>RH</td>\n",
              "      <td>10</td>\n",
              "    </tr>\n",
              "    <tr>\n",
              "      <th>4</th>\n",
              "      <td>Cartucho HP</td>\n",
              "      <td>RH</td>\n",
              "      <td>1</td>\n",
              "    </tr>\n",
              "    <tr>\n",
              "      <th>5</th>\n",
              "      <td>Grampo</td>\n",
              "      <td>RH</td>\n",
              "      <td>4</td>\n",
              "    </tr>\n",
              "    <tr>\n",
              "      <th>6</th>\n",
              "      <td>Cola bastão</td>\n",
              "      <td>ADM</td>\n",
              "      <td>2</td>\n",
              "    </tr>\n",
              "    <tr>\n",
              "      <th>7</th>\n",
              "      <td>Lápis</td>\n",
              "      <td>VENDAS</td>\n",
              "      <td>3</td>\n",
              "    </tr>\n",
              "    <tr>\n",
              "      <th>8</th>\n",
              "      <td>Cartucho HP</td>\n",
              "      <td>ADM</td>\n",
              "      <td>2</td>\n",
              "    </tr>\n",
              "    <tr>\n",
              "      <th>9</th>\n",
              "      <td>Caneta Preta</td>\n",
              "      <td>VENDAS</td>\n",
              "      <td>4</td>\n",
              "    </tr>\n",
              "    <tr>\n",
              "      <th>10</th>\n",
              "      <td>Cola bastão</td>\n",
              "      <td>VENDAS</td>\n",
              "      <td>3</td>\n",
              "    </tr>\n",
              "    <tr>\n",
              "      <th>11</th>\n",
              "      <td>Papel A4</td>\n",
              "      <td>VENDAS</td>\n",
              "      <td>12</td>\n",
              "    </tr>\n",
              "    <tr>\n",
              "      <th>12</th>\n",
              "      <td>Caneta Preta</td>\n",
              "      <td>RH</td>\n",
              "      <td>1</td>\n",
              "    </tr>\n",
              "    <tr>\n",
              "      <th>13</th>\n",
              "      <td>Clips</td>\n",
              "      <td>ADM</td>\n",
              "      <td>2</td>\n",
              "    </tr>\n",
              "    <tr>\n",
              "      <th>14</th>\n",
              "      <td>Lápis</td>\n",
              "      <td>RH</td>\n",
              "      <td>10</td>\n",
              "    </tr>\n",
              "    <tr>\n",
              "      <th>15</th>\n",
              "      <td>Caneta Preta</td>\n",
              "      <td>ADM</td>\n",
              "      <td>8</td>\n",
              "    </tr>\n",
              "    <tr>\n",
              "      <th>16</th>\n",
              "      <td>Caneta Azul</td>\n",
              "      <td>ADM</td>\n",
              "      <td>6</td>\n",
              "    </tr>\n",
              "    <tr>\n",
              "      <th>17</th>\n",
              "      <td>Clips</td>\n",
              "      <td>VENDAS</td>\n",
              "      <td>2</td>\n",
              "    </tr>\n",
              "    <tr>\n",
              "      <th>18</th>\n",
              "      <td>Caneta Preta</td>\n",
              "      <td>RH</td>\n",
              "      <td>9</td>\n",
              "    </tr>\n",
              "    <tr>\n",
              "      <th>19</th>\n",
              "      <td>Lápis</td>\n",
              "      <td>RH</td>\n",
              "      <td>4</td>\n",
              "    </tr>\n",
              "    <tr>\n",
              "      <th>20</th>\n",
              "      <td>Clips</td>\n",
              "      <td>ADM</td>\n",
              "      <td>3</td>\n",
              "    </tr>\n",
              "  </tbody>\n",
              "</table>\n",
              "</div>"
            ],
            "text/plain": [
              "         Produto   Depto  Quantidade\n",
              "0       Papel A4     ADM           3\n",
              "1         Grampo     ADM           2\n",
              "2          Lápis  VENDAS           3\n",
              "3    Caneta Azul      RH          10\n",
              "4    Cartucho HP      RH           1\n",
              "5         Grampo      RH           4\n",
              "6    Cola bastão     ADM           2\n",
              "7          Lápis  VENDAS           3\n",
              "8    Cartucho HP     ADM           2\n",
              "9   Caneta Preta  VENDAS           4\n",
              "10   Cola bastão  VENDAS           3\n",
              "11      Papel A4  VENDAS          12\n",
              "12  Caneta Preta      RH           1\n",
              "13         Clips     ADM           2\n",
              "14         Lápis      RH          10\n",
              "15  Caneta Preta     ADM           8\n",
              "16   Caneta Azul     ADM           6\n",
              "17         Clips  VENDAS           2\n",
              "18  Caneta Preta      RH           9\n",
              "19         Lápis      RH           4\n",
              "20         Clips     ADM           3"
            ]
          },
          "metadata": {
            "tags": []
          },
          "execution_count": 96
        }
      ]
    },
    {
      "cell_type": "markdown",
      "metadata": {
        "id": "N4zCYjAmUHwG"
      },
      "source": [
        "Exercicio: \n",
        "Apresente em um gráfico de barras a quantidade total (soma) por produto\n",
        "\n",
        "Apresente em um gráfico de barras a quantidade total (soma) por departamento"
      ]
    },
    {
      "cell_type": "code",
      "metadata": {
        "id": "EXBkYnTdULyZ",
        "outputId": "5531ffc4-509d-4e63-d6c2-e581ad6c429f",
        "colab": {
          "base_uri": "https://localhost:8080/",
          "height": 266
        }
      },
      "source": [
        "pedidos_rh=pedidos[pedidos['Depto']=='RH']\n",
        "pedidos_adm=pedidos[pedidos['Depto']=='ADM']\n",
        "pedidos_vendas=pedidos[pedidos['Depto']=='VENDAS']\n",
        "pedidos_rh\n"
      ],
      "execution_count": null,
      "outputs": [
        {
          "output_type": "execute_result",
          "data": {
            "text/html": [
              "<div>\n",
              "<style scoped>\n",
              "    .dataframe tbody tr th:only-of-type {\n",
              "        vertical-align: middle;\n",
              "    }\n",
              "\n",
              "    .dataframe tbody tr th {\n",
              "        vertical-align: top;\n",
              "    }\n",
              "\n",
              "    .dataframe thead th {\n",
              "        text-align: right;\n",
              "    }\n",
              "</style>\n",
              "<table border=\"1\" class=\"dataframe\">\n",
              "  <thead>\n",
              "    <tr style=\"text-align: right;\">\n",
              "      <th></th>\n",
              "      <th>Produto</th>\n",
              "      <th>Depto</th>\n",
              "      <th>Quantidade</th>\n",
              "    </tr>\n",
              "  </thead>\n",
              "  <tbody>\n",
              "    <tr>\n",
              "      <th>3</th>\n",
              "      <td>Caneta Azul</td>\n",
              "      <td>RH</td>\n",
              "      <td>10</td>\n",
              "    </tr>\n",
              "    <tr>\n",
              "      <th>4</th>\n",
              "      <td>Cartucho HP</td>\n",
              "      <td>RH</td>\n",
              "      <td>1</td>\n",
              "    </tr>\n",
              "    <tr>\n",
              "      <th>5</th>\n",
              "      <td>Grampo</td>\n",
              "      <td>RH</td>\n",
              "      <td>4</td>\n",
              "    </tr>\n",
              "    <tr>\n",
              "      <th>12</th>\n",
              "      <td>Caneta Preta</td>\n",
              "      <td>RH</td>\n",
              "      <td>1</td>\n",
              "    </tr>\n",
              "    <tr>\n",
              "      <th>14</th>\n",
              "      <td>Lápis</td>\n",
              "      <td>RH</td>\n",
              "      <td>10</td>\n",
              "    </tr>\n",
              "    <tr>\n",
              "      <th>18</th>\n",
              "      <td>Caneta Preta</td>\n",
              "      <td>RH</td>\n",
              "      <td>9</td>\n",
              "    </tr>\n",
              "    <tr>\n",
              "      <th>19</th>\n",
              "      <td>Lápis</td>\n",
              "      <td>RH</td>\n",
              "      <td>4</td>\n",
              "    </tr>\n",
              "  </tbody>\n",
              "</table>\n",
              "</div>"
            ],
            "text/plain": [
              "         Produto Depto  Quantidade\n",
              "3    Caneta Azul    RH          10\n",
              "4    Cartucho HP    RH           1\n",
              "5         Grampo    RH           4\n",
              "12  Caneta Preta    RH           1\n",
              "14         Lápis    RH          10\n",
              "18  Caneta Preta    RH           9\n",
              "19         Lápis    RH           4"
            ]
          },
          "metadata": {
            "tags": []
          },
          "execution_count": 111
        }
      ]
    },
    {
      "cell_type": "code",
      "metadata": {
        "id": "dS0n3F0YVbSv",
        "outputId": "69f5a9fe-b590-4f82-ac7e-abdf4568b018",
        "colab": {
          "base_uri": "https://localhost:8080/",
          "height": 417
        }
      },
      "source": [
        "import plotly.express as px\n",
        "fig = px.bar(pedidos, x='Depto', y='Quantidade',\n",
        "             title='Por departamento',\n",
        "             height=400)\n",
        "fig.update_traces(marker_color='rgb(159,212,225)', marker_line_color='rgb(9,50,107)',\n",
        "                  marker_line_width=1.5, opacity=0.9) \n",
        "fig.show()"
      ],
      "execution_count": null,
      "outputs": [
        {
          "output_type": "display_data",
          "data": {
            "text/html": [
              "<html>\n",
              "<head><meta charset=\"utf-8\" /></head>\n",
              "<body>\n",
              "    <div>\n",
              "            <script src=\"https://cdnjs.cloudflare.com/ajax/libs/mathjax/2.7.5/MathJax.js?config=TeX-AMS-MML_SVG\"></script><script type=\"text/javascript\">if (window.MathJax) {MathJax.Hub.Config({SVG: {font: \"STIX-Web\"}});}</script>\n",
              "                <script type=\"text/javascript\">window.PlotlyConfig = {MathJaxConfig: 'local'};</script>\n",
              "        <script src=\"https://cdn.plot.ly/plotly-latest.min.js\"></script>    \n",
              "            <div id=\"9c1784be-6470-4eda-bddb-35911527c288\" class=\"plotly-graph-div\" style=\"height:400px; width:100%;\"></div>\n",
              "            <script type=\"text/javascript\">\n",
              "                \n",
              "                    window.PLOTLYENV=window.PLOTLYENV || {};\n",
              "                    \n",
              "                if (document.getElementById(\"9c1784be-6470-4eda-bddb-35911527c288\")) {\n",
              "                    Plotly.newPlot(\n",
              "                        '9c1784be-6470-4eda-bddb-35911527c288',\n",
              "                        [{\"alignmentgroup\": \"True\", \"hoverlabel\": {\"namelength\": 0}, \"hovertemplate\": \"Depto=%{x}<br>Quantidade=%{y}\", \"legendgroup\": \"\", \"marker\": {\"color\": \"rgb(159,212,225)\", \"line\": {\"color\": \"rgb(9,50,107)\", \"width\": 1.5}}, \"name\": \"\", \"offsetgroup\": \"\", \"opacity\": 0.9, \"orientation\": \"v\", \"showlegend\": false, \"textposition\": \"auto\", \"type\": \"bar\", \"x\": [\"ADM\", \"ADM\", \"VENDAS\", \"RH\", \"RH\", \"RH\", \"ADM\", \"VENDAS\", \"ADM\", \"VENDAS\", \"VENDAS\", \"VENDAS\", \"RH\", \"ADM\", \"RH\", \"ADM\", \"ADM\", \"VENDAS\", \"RH\", \"RH\", \"ADM\"], \"xaxis\": \"x\", \"y\": [3, 2, 3, 10, 1, 4, 2, 3, 2, 4, 3, 12, 1, 2, 10, 8, 6, 2, 9, 4, 3], \"yaxis\": \"y\"}],\n",
              "                        {\"barmode\": \"relative\", \"height\": 400, \"legend\": {\"tracegroupgap\": 0}, \"template\": {\"data\": {\"bar\": [{\"error_x\": {\"color\": \"#2a3f5f\"}, \"error_y\": {\"color\": \"#2a3f5f\"}, \"marker\": {\"line\": {\"color\": \"#E5ECF6\", \"width\": 0.5}}, \"type\": \"bar\"}], \"barpolar\": [{\"marker\": {\"line\": {\"color\": \"#E5ECF6\", \"width\": 0.5}}, \"type\": \"barpolar\"}], \"carpet\": [{\"aaxis\": {\"endlinecolor\": \"#2a3f5f\", \"gridcolor\": \"white\", \"linecolor\": \"white\", \"minorgridcolor\": \"white\", \"startlinecolor\": \"#2a3f5f\"}, \"baxis\": {\"endlinecolor\": \"#2a3f5f\", \"gridcolor\": \"white\", \"linecolor\": \"white\", \"minorgridcolor\": \"white\", \"startlinecolor\": \"#2a3f5f\"}, \"type\": \"carpet\"}], \"choropleth\": [{\"colorbar\": {\"outlinewidth\": 0, \"ticks\": \"\"}, \"type\": \"choropleth\"}], \"contour\": [{\"colorbar\": {\"outlinewidth\": 0, \"ticks\": \"\"}, \"colorscale\": [[0.0, \"#0d0887\"], [0.1111111111111111, \"#46039f\"], [0.2222222222222222, \"#7201a8\"], [0.3333333333333333, \"#9c179e\"], [0.4444444444444444, \"#bd3786\"], [0.5555555555555556, \"#d8576b\"], [0.6666666666666666, \"#ed7953\"], [0.7777777777777778, \"#fb9f3a\"], [0.8888888888888888, \"#fdca26\"], [1.0, \"#f0f921\"]], \"type\": \"contour\"}], \"contourcarpet\": [{\"colorbar\": {\"outlinewidth\": 0, \"ticks\": \"\"}, \"type\": \"contourcarpet\"}], \"heatmap\": [{\"colorbar\": {\"outlinewidth\": 0, \"ticks\": \"\"}, \"colorscale\": [[0.0, \"#0d0887\"], [0.1111111111111111, \"#46039f\"], [0.2222222222222222, \"#7201a8\"], [0.3333333333333333, \"#9c179e\"], [0.4444444444444444, \"#bd3786\"], [0.5555555555555556, \"#d8576b\"], [0.6666666666666666, \"#ed7953\"], [0.7777777777777778, \"#fb9f3a\"], [0.8888888888888888, \"#fdca26\"], [1.0, \"#f0f921\"]], \"type\": \"heatmap\"}], \"heatmapgl\": [{\"colorbar\": {\"outlinewidth\": 0, \"ticks\": \"\"}, \"colorscale\": [[0.0, \"#0d0887\"], [0.1111111111111111, \"#46039f\"], [0.2222222222222222, \"#7201a8\"], [0.3333333333333333, \"#9c179e\"], [0.4444444444444444, \"#bd3786\"], [0.5555555555555556, \"#d8576b\"], [0.6666666666666666, \"#ed7953\"], [0.7777777777777778, \"#fb9f3a\"], [0.8888888888888888, \"#fdca26\"], [1.0, \"#f0f921\"]], \"type\": \"heatmapgl\"}], \"histogram\": [{\"marker\": {\"colorbar\": {\"outlinewidth\": 0, \"ticks\": \"\"}}, \"type\": \"histogram\"}], \"histogram2d\": [{\"colorbar\": {\"outlinewidth\": 0, \"ticks\": \"\"}, \"colorscale\": [[0.0, \"#0d0887\"], [0.1111111111111111, \"#46039f\"], [0.2222222222222222, \"#7201a8\"], [0.3333333333333333, \"#9c179e\"], [0.4444444444444444, \"#bd3786\"], [0.5555555555555556, \"#d8576b\"], [0.6666666666666666, \"#ed7953\"], [0.7777777777777778, \"#fb9f3a\"], [0.8888888888888888, \"#fdca26\"], [1.0, \"#f0f921\"]], \"type\": \"histogram2d\"}], \"histogram2dcontour\": [{\"colorbar\": {\"outlinewidth\": 0, \"ticks\": \"\"}, \"colorscale\": [[0.0, \"#0d0887\"], [0.1111111111111111, \"#46039f\"], [0.2222222222222222, \"#7201a8\"], [0.3333333333333333, \"#9c179e\"], [0.4444444444444444, \"#bd3786\"], [0.5555555555555556, \"#d8576b\"], [0.6666666666666666, \"#ed7953\"], [0.7777777777777778, \"#fb9f3a\"], [0.8888888888888888, \"#fdca26\"], [1.0, \"#f0f921\"]], \"type\": \"histogram2dcontour\"}], \"mesh3d\": [{\"colorbar\": {\"outlinewidth\": 0, \"ticks\": \"\"}, \"type\": \"mesh3d\"}], \"parcoords\": [{\"line\": {\"colorbar\": {\"outlinewidth\": 0, \"ticks\": \"\"}}, \"type\": \"parcoords\"}], \"pie\": [{\"automargin\": true, \"type\": \"pie\"}], \"scatter\": [{\"marker\": {\"colorbar\": {\"outlinewidth\": 0, \"ticks\": \"\"}}, \"type\": \"scatter\"}], \"scatter3d\": [{\"line\": {\"colorbar\": {\"outlinewidth\": 0, \"ticks\": \"\"}}, \"marker\": {\"colorbar\": {\"outlinewidth\": 0, \"ticks\": \"\"}}, \"type\": \"scatter3d\"}], \"scattercarpet\": [{\"marker\": {\"colorbar\": {\"outlinewidth\": 0, \"ticks\": \"\"}}, \"type\": \"scattercarpet\"}], \"scattergeo\": [{\"marker\": {\"colorbar\": {\"outlinewidth\": 0, \"ticks\": \"\"}}, \"type\": \"scattergeo\"}], \"scattergl\": [{\"marker\": {\"colorbar\": {\"outlinewidth\": 0, \"ticks\": \"\"}}, \"type\": \"scattergl\"}], \"scattermapbox\": [{\"marker\": {\"colorbar\": {\"outlinewidth\": 0, \"ticks\": \"\"}}, \"type\": \"scattermapbox\"}], \"scatterpolar\": [{\"marker\": {\"colorbar\": {\"outlinewidth\": 0, \"ticks\": \"\"}}, \"type\": \"scatterpolar\"}], \"scatterpolargl\": [{\"marker\": {\"colorbar\": {\"outlinewidth\": 0, \"ticks\": \"\"}}, \"type\": \"scatterpolargl\"}], \"scatterternary\": [{\"marker\": {\"colorbar\": {\"outlinewidth\": 0, \"ticks\": \"\"}}, \"type\": \"scatterternary\"}], \"surface\": [{\"colorbar\": {\"outlinewidth\": 0, \"ticks\": \"\"}, \"colorscale\": [[0.0, \"#0d0887\"], [0.1111111111111111, \"#46039f\"], [0.2222222222222222, \"#7201a8\"], [0.3333333333333333, \"#9c179e\"], [0.4444444444444444, \"#bd3786\"], [0.5555555555555556, \"#d8576b\"], [0.6666666666666666, \"#ed7953\"], [0.7777777777777778, \"#fb9f3a\"], [0.8888888888888888, \"#fdca26\"], [1.0, \"#f0f921\"]], \"type\": \"surface\"}], \"table\": [{\"cells\": {\"fill\": {\"color\": \"#EBF0F8\"}, \"line\": {\"color\": \"white\"}}, \"header\": {\"fill\": {\"color\": \"#C8D4E3\"}, \"line\": {\"color\": \"white\"}}, \"type\": \"table\"}]}, \"layout\": {\"annotationdefaults\": {\"arrowcolor\": \"#2a3f5f\", \"arrowhead\": 0, \"arrowwidth\": 1}, \"coloraxis\": {\"colorbar\": {\"outlinewidth\": 0, \"ticks\": \"\"}}, \"colorscale\": {\"diverging\": [[0, \"#8e0152\"], [0.1, \"#c51b7d\"], [0.2, \"#de77ae\"], [0.3, \"#f1b6da\"], [0.4, \"#fde0ef\"], [0.5, \"#f7f7f7\"], [0.6, \"#e6f5d0\"], [0.7, \"#b8e186\"], [0.8, \"#7fbc41\"], [0.9, \"#4d9221\"], [1, \"#276419\"]], \"sequential\": [[0.0, \"#0d0887\"], [0.1111111111111111, \"#46039f\"], [0.2222222222222222, \"#7201a8\"], [0.3333333333333333, \"#9c179e\"], [0.4444444444444444, \"#bd3786\"], [0.5555555555555556, \"#d8576b\"], [0.6666666666666666, \"#ed7953\"], [0.7777777777777778, \"#fb9f3a\"], [0.8888888888888888, \"#fdca26\"], [1.0, \"#f0f921\"]], \"sequentialminus\": [[0.0, \"#0d0887\"], [0.1111111111111111, \"#46039f\"], [0.2222222222222222, \"#7201a8\"], [0.3333333333333333, \"#9c179e\"], [0.4444444444444444, \"#bd3786\"], [0.5555555555555556, \"#d8576b\"], [0.6666666666666666, \"#ed7953\"], [0.7777777777777778, \"#fb9f3a\"], [0.8888888888888888, \"#fdca26\"], [1.0, \"#f0f921\"]]}, \"colorway\": [\"#636efa\", \"#EF553B\", \"#00cc96\", \"#ab63fa\", \"#FFA15A\", \"#19d3f3\", \"#FF6692\", \"#B6E880\", \"#FF97FF\", \"#FECB52\"], \"font\": {\"color\": \"#2a3f5f\"}, \"geo\": {\"bgcolor\": \"white\", \"lakecolor\": \"white\", \"landcolor\": \"#E5ECF6\", \"showlakes\": true, \"showland\": true, \"subunitcolor\": \"white\"}, \"hoverlabel\": {\"align\": \"left\"}, \"hovermode\": \"closest\", \"mapbox\": {\"style\": \"light\"}, \"paper_bgcolor\": \"white\", \"plot_bgcolor\": \"#E5ECF6\", \"polar\": {\"angularaxis\": {\"gridcolor\": \"white\", \"linecolor\": \"white\", \"ticks\": \"\"}, \"bgcolor\": \"#E5ECF6\", \"radialaxis\": {\"gridcolor\": \"white\", \"linecolor\": \"white\", \"ticks\": \"\"}}, \"scene\": {\"xaxis\": {\"backgroundcolor\": \"#E5ECF6\", \"gridcolor\": \"white\", \"gridwidth\": 2, \"linecolor\": \"white\", \"showbackground\": true, \"ticks\": \"\", \"zerolinecolor\": \"white\"}, \"yaxis\": {\"backgroundcolor\": \"#E5ECF6\", \"gridcolor\": \"white\", \"gridwidth\": 2, \"linecolor\": \"white\", \"showbackground\": true, \"ticks\": \"\", \"zerolinecolor\": \"white\"}, \"zaxis\": {\"backgroundcolor\": \"#E5ECF6\", \"gridcolor\": \"white\", \"gridwidth\": 2, \"linecolor\": \"white\", \"showbackground\": true, \"ticks\": \"\", \"zerolinecolor\": \"white\"}}, \"shapedefaults\": {\"line\": {\"color\": \"#2a3f5f\"}}, \"ternary\": {\"aaxis\": {\"gridcolor\": \"white\", \"linecolor\": \"white\", \"ticks\": \"\"}, \"baxis\": {\"gridcolor\": \"white\", \"linecolor\": \"white\", \"ticks\": \"\"}, \"bgcolor\": \"#E5ECF6\", \"caxis\": {\"gridcolor\": \"white\", \"linecolor\": \"white\", \"ticks\": \"\"}}, \"title\": {\"x\": 0.05}, \"xaxis\": {\"automargin\": true, \"gridcolor\": \"white\", \"linecolor\": \"white\", \"ticks\": \"\", \"title\": {\"standoff\": 15}, \"zerolinecolor\": \"white\", \"zerolinewidth\": 2}, \"yaxis\": {\"automargin\": true, \"gridcolor\": \"white\", \"linecolor\": \"white\", \"ticks\": \"\", \"title\": {\"standoff\": 15}, \"zerolinecolor\": \"white\", \"zerolinewidth\": 2}}}, \"title\": {\"text\": \"Por departamento\"}, \"xaxis\": {\"anchor\": \"y\", \"domain\": [0.0, 1.0], \"title\": {\"text\": \"Depto\"}}, \"yaxis\": {\"anchor\": \"x\", \"domain\": [0.0, 1.0], \"title\": {\"text\": \"Quantidade\"}}},\n",
              "                        {\"responsive\": true}\n",
              "                    ).then(function(){\n",
              "                            \n",
              "var gd = document.getElementById('9c1784be-6470-4eda-bddb-35911527c288');\n",
              "var x = new MutationObserver(function (mutations, observer) {{\n",
              "        var display = window.getComputedStyle(gd).display;\n",
              "        if (!display || display === 'none') {{\n",
              "            console.log([gd, 'removed!']);\n",
              "            Plotly.purge(gd);\n",
              "            observer.disconnect();\n",
              "        }}\n",
              "}});\n",
              "\n",
              "// Listen for the removal of the full notebook cells\n",
              "var notebookContainer = gd.closest('#notebook-container');\n",
              "if (notebookContainer) {{\n",
              "    x.observe(notebookContainer, {childList: true});\n",
              "}}\n",
              "\n",
              "// Listen for the clearing of the current output cell\n",
              "var outputEl = gd.closest('.output');\n",
              "if (outputEl) {{\n",
              "    x.observe(outputEl, {childList: true});\n",
              "}}\n",
              "\n",
              "                        })\n",
              "                };\n",
              "                \n",
              "            </script>\n",
              "        </div>\n",
              "</body>\n",
              "</html>"
            ]
          },
          "metadata": {
            "tags": []
          }
        }
      ]
    },
    {
      "cell_type": "code",
      "metadata": {
        "id": "3Ta0ZhyXWYUM",
        "outputId": "667f8272-e011-4661-c2eb-584baf37c3b6",
        "colab": {
          "base_uri": "https://localhost:8080/",
          "height": 417
        }
      },
      "source": [
        "import plotly.express as px\n",
        "fig = px.bar(pedidos_rh, x='Depto', y='Quantidade',\n",
        "             title='',\n",
        "             height=400)\n",
        "fig.update_traces(marker_color='rgb(159,212,225)', marker_line_color='rgb(9,50,107)',\n",
        "                  marker_line_width=1.5, opacity=0.9) \n",
        "fig.show()"
      ],
      "execution_count": null,
      "outputs": [
        {
          "output_type": "display_data",
          "data": {
            "text/html": [
              "<html>\n",
              "<head><meta charset=\"utf-8\" /></head>\n",
              "<body>\n",
              "    <div>\n",
              "            <script src=\"https://cdnjs.cloudflare.com/ajax/libs/mathjax/2.7.5/MathJax.js?config=TeX-AMS-MML_SVG\"></script><script type=\"text/javascript\">if (window.MathJax) {MathJax.Hub.Config({SVG: {font: \"STIX-Web\"}});}</script>\n",
              "                <script type=\"text/javascript\">window.PlotlyConfig = {MathJaxConfig: 'local'};</script>\n",
              "        <script src=\"https://cdn.plot.ly/plotly-latest.min.js\"></script>    \n",
              "            <div id=\"0055c3d3-1f2a-4850-971f-1893388af07b\" class=\"plotly-graph-div\" style=\"height:400px; width:100%;\"></div>\n",
              "            <script type=\"text/javascript\">\n",
              "                \n",
              "                    window.PLOTLYENV=window.PLOTLYENV || {};\n",
              "                    \n",
              "                if (document.getElementById(\"0055c3d3-1f2a-4850-971f-1893388af07b\")) {\n",
              "                    Plotly.newPlot(\n",
              "                        '0055c3d3-1f2a-4850-971f-1893388af07b',\n",
              "                        [{\"alignmentgroup\": \"True\", \"hoverlabel\": {\"namelength\": 0}, \"hovertemplate\": \"Depto=%{x}<br>Quantidade=%{y}\", \"legendgroup\": \"\", \"marker\": {\"color\": \"rgb(159,212,225)\", \"line\": {\"color\": \"rgb(9,50,107)\", \"width\": 1.5}}, \"name\": \"\", \"offsetgroup\": \"\", \"opacity\": 0.9, \"orientation\": \"v\", \"showlegend\": false, \"textposition\": \"auto\", \"type\": \"bar\", \"x\": [\"RH\", \"RH\", \"RH\", \"RH\", \"RH\", \"RH\", \"RH\"], \"xaxis\": \"x\", \"y\": [10, 1, 4, 1, 10, 9, 4], \"yaxis\": \"y\"}],\n",
              "                        {\"barmode\": \"relative\", \"height\": 400, \"legend\": {\"tracegroupgap\": 0}, \"margin\": {\"t\": 60}, \"template\": {\"data\": {\"bar\": [{\"error_x\": {\"color\": \"#2a3f5f\"}, \"error_y\": {\"color\": \"#2a3f5f\"}, \"marker\": {\"line\": {\"color\": \"#E5ECF6\", \"width\": 0.5}}, \"type\": \"bar\"}], \"barpolar\": [{\"marker\": {\"line\": {\"color\": \"#E5ECF6\", \"width\": 0.5}}, \"type\": \"barpolar\"}], \"carpet\": [{\"aaxis\": {\"endlinecolor\": \"#2a3f5f\", \"gridcolor\": \"white\", \"linecolor\": \"white\", \"minorgridcolor\": \"white\", \"startlinecolor\": \"#2a3f5f\"}, \"baxis\": {\"endlinecolor\": \"#2a3f5f\", \"gridcolor\": \"white\", \"linecolor\": \"white\", \"minorgridcolor\": \"white\", \"startlinecolor\": \"#2a3f5f\"}, \"type\": \"carpet\"}], \"choropleth\": [{\"colorbar\": {\"outlinewidth\": 0, \"ticks\": \"\"}, \"type\": \"choropleth\"}], \"contour\": [{\"colorbar\": {\"outlinewidth\": 0, \"ticks\": \"\"}, \"colorscale\": [[0.0, \"#0d0887\"], [0.1111111111111111, \"#46039f\"], [0.2222222222222222, \"#7201a8\"], [0.3333333333333333, \"#9c179e\"], [0.4444444444444444, \"#bd3786\"], [0.5555555555555556, \"#d8576b\"], [0.6666666666666666, \"#ed7953\"], [0.7777777777777778, \"#fb9f3a\"], [0.8888888888888888, \"#fdca26\"], [1.0, \"#f0f921\"]], \"type\": \"contour\"}], \"contourcarpet\": [{\"colorbar\": {\"outlinewidth\": 0, \"ticks\": \"\"}, \"type\": \"contourcarpet\"}], \"heatmap\": [{\"colorbar\": {\"outlinewidth\": 0, \"ticks\": \"\"}, \"colorscale\": [[0.0, \"#0d0887\"], [0.1111111111111111, \"#46039f\"], [0.2222222222222222, \"#7201a8\"], [0.3333333333333333, \"#9c179e\"], [0.4444444444444444, \"#bd3786\"], [0.5555555555555556, \"#d8576b\"], [0.6666666666666666, \"#ed7953\"], [0.7777777777777778, \"#fb9f3a\"], [0.8888888888888888, \"#fdca26\"], [1.0, \"#f0f921\"]], \"type\": \"heatmap\"}], \"heatmapgl\": [{\"colorbar\": {\"outlinewidth\": 0, \"ticks\": \"\"}, \"colorscale\": [[0.0, \"#0d0887\"], [0.1111111111111111, \"#46039f\"], [0.2222222222222222, \"#7201a8\"], [0.3333333333333333, \"#9c179e\"], [0.4444444444444444, \"#bd3786\"], [0.5555555555555556, \"#d8576b\"], [0.6666666666666666, \"#ed7953\"], [0.7777777777777778, \"#fb9f3a\"], [0.8888888888888888, \"#fdca26\"], [1.0, \"#f0f921\"]], \"type\": \"heatmapgl\"}], \"histogram\": [{\"marker\": {\"colorbar\": {\"outlinewidth\": 0, \"ticks\": \"\"}}, \"type\": \"histogram\"}], \"histogram2d\": [{\"colorbar\": {\"outlinewidth\": 0, \"ticks\": \"\"}, \"colorscale\": [[0.0, \"#0d0887\"], [0.1111111111111111, \"#46039f\"], [0.2222222222222222, \"#7201a8\"], [0.3333333333333333, \"#9c179e\"], [0.4444444444444444, \"#bd3786\"], [0.5555555555555556, \"#d8576b\"], [0.6666666666666666, \"#ed7953\"], [0.7777777777777778, \"#fb9f3a\"], [0.8888888888888888, \"#fdca26\"], [1.0, \"#f0f921\"]], \"type\": \"histogram2d\"}], \"histogram2dcontour\": [{\"colorbar\": {\"outlinewidth\": 0, \"ticks\": \"\"}, \"colorscale\": [[0.0, \"#0d0887\"], [0.1111111111111111, \"#46039f\"], [0.2222222222222222, \"#7201a8\"], [0.3333333333333333, \"#9c179e\"], [0.4444444444444444, \"#bd3786\"], [0.5555555555555556, \"#d8576b\"], [0.6666666666666666, \"#ed7953\"], [0.7777777777777778, \"#fb9f3a\"], [0.8888888888888888, \"#fdca26\"], [1.0, \"#f0f921\"]], \"type\": \"histogram2dcontour\"}], \"mesh3d\": [{\"colorbar\": {\"outlinewidth\": 0, \"ticks\": \"\"}, \"type\": \"mesh3d\"}], \"parcoords\": [{\"line\": {\"colorbar\": {\"outlinewidth\": 0, \"ticks\": \"\"}}, \"type\": \"parcoords\"}], \"pie\": [{\"automargin\": true, \"type\": \"pie\"}], \"scatter\": [{\"marker\": {\"colorbar\": {\"outlinewidth\": 0, \"ticks\": \"\"}}, \"type\": \"scatter\"}], \"scatter3d\": [{\"line\": {\"colorbar\": {\"outlinewidth\": 0, \"ticks\": \"\"}}, \"marker\": {\"colorbar\": {\"outlinewidth\": 0, \"ticks\": \"\"}}, \"type\": \"scatter3d\"}], \"scattercarpet\": [{\"marker\": {\"colorbar\": {\"outlinewidth\": 0, \"ticks\": \"\"}}, \"type\": \"scattercarpet\"}], \"scattergeo\": [{\"marker\": {\"colorbar\": {\"outlinewidth\": 0, \"ticks\": \"\"}}, \"type\": \"scattergeo\"}], \"scattergl\": [{\"marker\": {\"colorbar\": {\"outlinewidth\": 0, \"ticks\": \"\"}}, \"type\": \"scattergl\"}], \"scattermapbox\": [{\"marker\": {\"colorbar\": {\"outlinewidth\": 0, \"ticks\": \"\"}}, \"type\": \"scattermapbox\"}], \"scatterpolar\": [{\"marker\": {\"colorbar\": {\"outlinewidth\": 0, \"ticks\": \"\"}}, \"type\": \"scatterpolar\"}], \"scatterpolargl\": [{\"marker\": {\"colorbar\": {\"outlinewidth\": 0, \"ticks\": \"\"}}, \"type\": \"scatterpolargl\"}], \"scatterternary\": [{\"marker\": {\"colorbar\": {\"outlinewidth\": 0, \"ticks\": \"\"}}, \"type\": \"scatterternary\"}], \"surface\": [{\"colorbar\": {\"outlinewidth\": 0, \"ticks\": \"\"}, \"colorscale\": [[0.0, \"#0d0887\"], [0.1111111111111111, \"#46039f\"], [0.2222222222222222, \"#7201a8\"], [0.3333333333333333, \"#9c179e\"], [0.4444444444444444, \"#bd3786\"], [0.5555555555555556, \"#d8576b\"], [0.6666666666666666, \"#ed7953\"], [0.7777777777777778, \"#fb9f3a\"], [0.8888888888888888, \"#fdca26\"], [1.0, \"#f0f921\"]], \"type\": \"surface\"}], \"table\": [{\"cells\": {\"fill\": {\"color\": \"#EBF0F8\"}, \"line\": {\"color\": \"white\"}}, \"header\": {\"fill\": {\"color\": \"#C8D4E3\"}, \"line\": {\"color\": \"white\"}}, \"type\": \"table\"}]}, \"layout\": {\"annotationdefaults\": {\"arrowcolor\": \"#2a3f5f\", \"arrowhead\": 0, \"arrowwidth\": 1}, \"coloraxis\": {\"colorbar\": {\"outlinewidth\": 0, \"ticks\": \"\"}}, \"colorscale\": {\"diverging\": [[0, \"#8e0152\"], [0.1, \"#c51b7d\"], [0.2, \"#de77ae\"], [0.3, \"#f1b6da\"], [0.4, \"#fde0ef\"], [0.5, \"#f7f7f7\"], [0.6, \"#e6f5d0\"], [0.7, \"#b8e186\"], [0.8, \"#7fbc41\"], [0.9, \"#4d9221\"], [1, \"#276419\"]], \"sequential\": [[0.0, \"#0d0887\"], [0.1111111111111111, \"#46039f\"], [0.2222222222222222, \"#7201a8\"], [0.3333333333333333, \"#9c179e\"], [0.4444444444444444, \"#bd3786\"], [0.5555555555555556, \"#d8576b\"], [0.6666666666666666, \"#ed7953\"], [0.7777777777777778, \"#fb9f3a\"], [0.8888888888888888, \"#fdca26\"], [1.0, \"#f0f921\"]], \"sequentialminus\": [[0.0, \"#0d0887\"], [0.1111111111111111, \"#46039f\"], [0.2222222222222222, \"#7201a8\"], [0.3333333333333333, \"#9c179e\"], [0.4444444444444444, \"#bd3786\"], [0.5555555555555556, \"#d8576b\"], [0.6666666666666666, \"#ed7953\"], [0.7777777777777778, \"#fb9f3a\"], [0.8888888888888888, \"#fdca26\"], [1.0, \"#f0f921\"]]}, \"colorway\": [\"#636efa\", \"#EF553B\", \"#00cc96\", \"#ab63fa\", \"#FFA15A\", \"#19d3f3\", \"#FF6692\", \"#B6E880\", \"#FF97FF\", \"#FECB52\"], \"font\": {\"color\": \"#2a3f5f\"}, \"geo\": {\"bgcolor\": \"white\", \"lakecolor\": \"white\", \"landcolor\": \"#E5ECF6\", \"showlakes\": true, \"showland\": true, \"subunitcolor\": \"white\"}, \"hoverlabel\": {\"align\": \"left\"}, \"hovermode\": \"closest\", \"mapbox\": {\"style\": \"light\"}, \"paper_bgcolor\": \"white\", \"plot_bgcolor\": \"#E5ECF6\", \"polar\": {\"angularaxis\": {\"gridcolor\": \"white\", \"linecolor\": \"white\", \"ticks\": \"\"}, \"bgcolor\": \"#E5ECF6\", \"radialaxis\": {\"gridcolor\": \"white\", \"linecolor\": \"white\", \"ticks\": \"\"}}, \"scene\": {\"xaxis\": {\"backgroundcolor\": \"#E5ECF6\", \"gridcolor\": \"white\", \"gridwidth\": 2, \"linecolor\": \"white\", \"showbackground\": true, \"ticks\": \"\", \"zerolinecolor\": \"white\"}, \"yaxis\": {\"backgroundcolor\": \"#E5ECF6\", \"gridcolor\": \"white\", \"gridwidth\": 2, \"linecolor\": \"white\", \"showbackground\": true, \"ticks\": \"\", \"zerolinecolor\": \"white\"}, \"zaxis\": {\"backgroundcolor\": \"#E5ECF6\", \"gridcolor\": \"white\", \"gridwidth\": 2, \"linecolor\": \"white\", \"showbackground\": true, \"ticks\": \"\", \"zerolinecolor\": \"white\"}}, \"shapedefaults\": {\"line\": {\"color\": \"#2a3f5f\"}}, \"ternary\": {\"aaxis\": {\"gridcolor\": \"white\", \"linecolor\": \"white\", \"ticks\": \"\"}, \"baxis\": {\"gridcolor\": \"white\", \"linecolor\": \"white\", \"ticks\": \"\"}, \"bgcolor\": \"#E5ECF6\", \"caxis\": {\"gridcolor\": \"white\", \"linecolor\": \"white\", \"ticks\": \"\"}}, \"title\": {\"x\": 0.05}, \"xaxis\": {\"automargin\": true, \"gridcolor\": \"white\", \"linecolor\": \"white\", \"ticks\": \"\", \"title\": {\"standoff\": 15}, \"zerolinecolor\": \"white\", \"zerolinewidth\": 2}, \"yaxis\": {\"automargin\": true, \"gridcolor\": \"white\", \"linecolor\": \"white\", \"ticks\": \"\", \"title\": {\"standoff\": 15}, \"zerolinecolor\": \"white\", \"zerolinewidth\": 2}}}, \"xaxis\": {\"anchor\": \"y\", \"domain\": [0.0, 1.0], \"title\": {\"text\": \"Depto\"}}, \"yaxis\": {\"anchor\": \"x\", \"domain\": [0.0, 1.0], \"title\": {\"text\": \"Quantidade\"}}},\n",
              "                        {\"responsive\": true}\n",
              "                    ).then(function(){\n",
              "                            \n",
              "var gd = document.getElementById('0055c3d3-1f2a-4850-971f-1893388af07b');\n",
              "var x = new MutationObserver(function (mutations, observer) {{\n",
              "        var display = window.getComputedStyle(gd).display;\n",
              "        if (!display || display === 'none') {{\n",
              "            console.log([gd, 'removed!']);\n",
              "            Plotly.purge(gd);\n",
              "            observer.disconnect();\n",
              "        }}\n",
              "}});\n",
              "\n",
              "// Listen for the removal of the full notebook cells\n",
              "var notebookContainer = gd.closest('#notebook-container');\n",
              "if (notebookContainer) {{\n",
              "    x.observe(notebookContainer, {childList: true});\n",
              "}}\n",
              "\n",
              "// Listen for the clearing of the current output cell\n",
              "var outputEl = gd.closest('.output');\n",
              "if (outputEl) {{\n",
              "    x.observe(outputEl, {childList: true});\n",
              "}}\n",
              "\n",
              "                        })\n",
              "                };\n",
              "                \n",
              "            </script>\n",
              "        </div>\n",
              "</body>\n",
              "</html>"
            ]
          },
          "metadata": {
            "tags": []
          }
        }
      ]
    },
    {
      "cell_type": "code",
      "metadata": {
        "id": "rvuRO8pQWohk"
      },
      "source": [
        "import plotly.express as px\n",
        "fig = px.bar(pedidos_rh, x='Depto', y='Quantidade',\n",
        "             title='',\n",
        "             height=400)\n",
        "fig.update_traces(marker_color='rgb(159,212,225)', marker_line_color='rgb(9,50,107)',\n",
        "                  marker_line_width=1.5, opacity=0.9) \n",
        "fig.show()"
      ],
      "execution_count": null,
      "outputs": []
    },
    {
      "cell_type": "code",
      "metadata": {
        "id": "w39_UcUYbG8M"
      },
      "source": [
        "pedidos = pd.read_csv('http://quant-ibmec.group/pedidos%20-%20qtd.csv')\n",
        "pedidos.head()\n",
        "pedidos_por_depto = pedidos.groupby('Depto').sum()['Quantidade']\n",
        "pedidos_por_depto\n",
        "pedidos_por_depto.plot.bar()"
      ],
      "execution_count": null,
      "outputs": []
    }
  ]
}